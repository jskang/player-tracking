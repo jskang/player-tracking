{
 "cells": [
  {
   "cell_type": "code",
   "execution_count": 2,
   "metadata": {
    "collapsed": true
   },
   "outputs": [],
   "source": [
    "import numpy as np\n",
    "import pandas as pd\n",
    "import matplotlib.pyplot as plt\n",
    "import matplotlib.image as mpimg\n",
    "import matplotlib.patches as patches\n",
    "import os\n",
    "import re\n",
    "import cv2\n",
    "import time\n",
    "\n",
    "%matplotlib inline\n",
    "plt.rcParams['figure.figsize'] = (20.0, 10.0)"
   ]
  },
  {
   "cell_type": "code",
   "execution_count": 3,
   "metadata": {
    "collapsed": false
   },
   "outputs": [],
   "source": [
    "results_dir = '../../results'\n",
    "data_dir = '../../data'"
   ]
  },
  {
   "cell_type": "code",
   "execution_count": 4,
   "metadata": {
    "collapsed": true
   },
   "outputs": [],
   "source": [
    "def ltbr_2_xywh(df):\n",
    "    df = df.copy(deep=True)\n",
    "    df.columns = ['prob', 'x', 'y', 'w', 'h']\n",
    "    df.iloc[:,3] = df.iloc[:,3] - df.iloc[:,1]\n",
    "    df.iloc[:,4] = df.iloc[:,4] - df.iloc[:,2]\n",
    "    \n",
    "    return df"
   ]
  },
  {
   "cell_type": "code",
   "execution_count": null,
   "metadata": {
    "collapsed": false,
    "scrolled": false
   },
   "outputs": [
    {
     "name": "stdout",
     "output_type": "stream",
     "text": [
      "0\n",
      "tracking\n"
     ]
    }
   ],
   "source": [
    "# Set up tracker.\n",
    "# Instead of MIL, you can also use\n",
    "# BOOSTING, KCF, TLD, MEDIANFLOW or GOTURN\n",
    "video_id = 'WF0GqBJuBLQ'\n",
    "clip_id  = 'clip_65'\n",
    "image_dir = os.path.join(data_dir, video_id, clip_id)\n",
    "images = [name for name in os.listdir(image_dir) if 'png' in name]\n",
    "images.sort()\n",
    "\n",
    "tracker = cv2.Tracker_create(\"MIL\")\n",
    "\n",
    "for i in range(len(images)):\n",
    "    image = images[i]\n",
    "    image_path = os.path.join(image_dir, image)\n",
    "\n",
    "    frame = cv2.imread(image_path)\n",
    "    print i\n",
    "    if i == 0:\n",
    "        frame_number = image.split('.')[0]\n",
    "        csv_name = video_id + '_' + clip_id + '_' + frame_number + '.txt'\n",
    "        csv_path = os.path.join(results_dir, csv_name)\n",
    "        csv_file = pd.read_csv(csv_path, header = None)\n",
    "        csv_file = ltbr_2_xywh(csv_file)\n",
    "        csv_file = csv_file.iloc[0,1:]\n",
    "        bbox = (csv_file.x, csv_file.y, csv_file.w, csv_file.h)\n",
    "        print 'tracking'\n",
    "        ok = tracker.init(frame, bbox)\n",
    "        print 'done'\n",
    "    else:\n",
    "        ok, bbox = tracker.update(frame)\n",
    "\n"
   ]
  },
  {
   "cell_type": "code",
   "execution_count": 8,
   "metadata": {
    "collapsed": false
   },
   "outputs": [
    {
     "name": "stdout",
     "output_type": "stream",
     "text": [
      "../../data\\WF0GqBJuBLQ\\clip_65\\01.png\n",
      "../../data\\WF0GqBJuBLQ\\clip_65\\02.png\n",
      "../../data\\WF0GqBJuBLQ\\clip_65\\03.png\n",
      "../../data\\WF0GqBJuBLQ\\clip_65\\04.png\n",
      "../../data\\WF0GqBJuBLQ\\clip_65\\05.png\n",
      "../../data\\WF0GqBJuBLQ\\clip_65\\06.png\n",
      "../../data\\WF0GqBJuBLQ\\clip_65\\07.png\n",
      "../../data\\WF0GqBJuBLQ\\clip_65\\08.png\n",
      "../../data\\WF0GqBJuBLQ\\clip_65\\09.png\n",
      "../../data\\WF0GqBJuBLQ\\clip_65\\10.png\n",
      "../../data\\WF0GqBJuBLQ\\clip_65\\11.png\n",
      "../../data\\WF0GqBJuBLQ\\clip_65\\12.png\n",
      "../../data\\WF0GqBJuBLQ\\clip_65\\13.png\n",
      "../../data\\WF0GqBJuBLQ\\clip_65\\14.png\n",
      "../../data\\WF0GqBJuBLQ\\clip_65\\15.png\n",
      "../../data\\WF0GqBJuBLQ\\clip_65\\16.png\n",
      "../../data\\WF0GqBJuBLQ\\clip_65\\17.png\n",
      "../../data\\WF0GqBJuBLQ\\clip_65\\18.png\n",
      "../../data\\WF0GqBJuBLQ\\clip_65\\19.png\n",
      "../../data\\WF0GqBJuBLQ\\clip_65\\20.png\n",
      "['01.png', '02.png', '03.png', '04.png', '05.png', '06.png', '07.png', '08.png', '09.png', '10.png', '11.png', '12.png', '13.png', '14.png', '15.png', '16.png', '17.png', '18.png', '19.png', '20.png']\n"
     ]
    },
    {
     "ename": "NameError",
     "evalue": "name 'frame' is not defined",
     "output_type": "error",
     "traceback": [
      "\u001b[0;31m---------------------------------------------------------------------------\u001b[0m",
      "\u001b[0;31mNameError\u001b[0m                                 Traceback (most recent call last)",
      "\u001b[0;32m<ipython-input-8-8f63edd75d7a>\u001b[0m in \u001b[0;36m<module>\u001b[0;34m()\u001b[0m\n\u001b[1;32m     19\u001b[0m \u001b[1;33m\u001b[0m\u001b[0m\n\u001b[1;32m     20\u001b[0m \u001b[1;31m# Initialize tracker with first frame and bounding box\u001b[0m\u001b[1;33m\u001b[0m\u001b[1;33m\u001b[0m\u001b[0m\n\u001b[0;32m---> 21\u001b[0;31m \u001b[0mok\u001b[0m \u001b[1;33m=\u001b[0m \u001b[0mtracker\u001b[0m\u001b[1;33m.\u001b[0m\u001b[0minit\u001b[0m\u001b[1;33m(\u001b[0m\u001b[0mframe\u001b[0m\u001b[1;33m,\u001b[0m \u001b[0mbbox\u001b[0m\u001b[1;33m)\u001b[0m\u001b[1;33m\u001b[0m\u001b[0m\n\u001b[0m\u001b[1;32m     22\u001b[0m \u001b[1;33m\u001b[0m\u001b[0m\n\u001b[1;32m     23\u001b[0m \u001b[1;31m# Update tracker\u001b[0m\u001b[1;33m\u001b[0m\u001b[1;33m\u001b[0m\u001b[0m\n",
      "\u001b[0;31mNameError\u001b[0m: name 'frame' is not defined"
     ]
    }
   ],
   "source": [
    "\n",
    "print results2\n",
    "\n",
    "# Define an initial bounding box\n",
    "bbox = (287, 23, 86, 320)\n",
    "\n",
    "# Initialize tracker with first frame and bounding box\n",
    "\n",
    "# Update tracker\n",
    "\n",
    "# Draw bounding box\n",
    "if ok:\n",
    "    p1 = (int(bbox[0]), int(bbox[1]))\n",
    "    p2 = (int(bbox[0] + bbox[2]), int(bbox[1] + bbox[3]))\n",
    "    cv2.rectangle(frame, p1, p2, (0,0,255))\n",
    "\n",
    "# Display result\n",
    "cv2.imshow(\"Tracking\", frame)\n",
    "\n",
    "# Exit if ESC pressed\n",
    "k = cv2.waitKey(1) & 0xff\n",
    "if k == 27 : break"
   ]
  },
  {
   "cell_type": "code",
   "execution_count": null,
   "metadata": {
    "collapsed": true
   },
   "outputs": [],
   "source": []
  }
 ],
 "metadata": {
  "kernelspec": {
   "display_name": "Python [conda env:NL]",
   "language": "python",
   "name": "conda-env-NL-py"
  },
  "language_info": {
   "codemirror_mode": {
    "name": "ipython",
    "version": 2
   },
   "file_extension": ".py",
   "mimetype": "text/x-python",
   "name": "python",
   "nbconvert_exporter": "python",
   "pygments_lexer": "ipython2",
   "version": "2.7.12"
  }
 },
 "nbformat": 4,
 "nbformat_minor": 1
}
