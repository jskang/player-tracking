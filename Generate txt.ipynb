{
 "cells": [
  {
   "cell_type": "code",
   "execution_count": 2,
   "metadata": {
    "collapsed": true
   },
   "outputs": [],
   "source": [
    "import numpy as np\n",
    "import pandas as pd\n",
    "import matplotlib.pyplot as plt\n",
    "import os\n",
    "\n",
    "%matplotlib inline"
   ]
  },
  {
   "cell_type": "code",
   "execution_count": 9,
   "metadata": {
    "collapsed": true
   },
   "outputs": [],
   "source": [
    "clip_info = pd.read_csv('data/-KUYDYCwnOQ/clip_40/clip_info.csv', header=None)"
   ]
  },
  {
   "cell_type": "code",
   "execution_count": 15,
   "metadata": {
    "collapsed": false
   },
   "outputs": [],
   "source": [
    "orig_width = int(clipInfo[1][2])\n",
    "orig_height = int(clipInfo[1][3])"
   ]
  },
  {
   "cell_type": "code",
   "execution_count": 18,
   "metadata": {
    "collapsed": false
   },
   "outputs": [],
   "source": [
    "image_info = pd.read_csv('data/-KUYDYCwnOQ/clip_40/01_info.csv')"
   ]
  },
  {
   "cell_type": "code",
   "execution_count": 35,
   "metadata": {
    "collapsed": false
   },
   "outputs": [],
   "source": [
    "x = image_info['x'] / orig_width\n",
    "y = image_info['y'] / orig_height\n",
    "w = image_info['w'] / orig_width\n",
    "h = image_info['h'] / orig_height"
   ]
  },
  {
   "cell_type": "code",
   "execution_count": 47,
   "metadata": {
    "collapsed": false
   },
   "outputs": [],
   "source": [
    "combined = pd.concat([x, y, w, h], axis = 1)\n",
    "combined['label'] = np.zeros(len(combined))\n",
    "cols = combined.columns.tolist()\n",
    "cols = cols[-1:] + cols[:-1]\n",
    "combined['label'] = combined['label'].astype(int)\n",
    "combined = combined[cols]"
   ]
  },
  {
   "cell_type": "code",
   "execution_count": 52,
   "metadata": {
    "collapsed": false
   },
   "outputs": [],
   "source": [
    "combined.to_csv('test.txt', sep=' ', header = False, index = False)"
   ]
  },
  {
   "cell_type": "code",
   "execution_count": 3,
   "metadata": {
    "collapsed": false
   },
   "outputs": [],
   "source": [
    "path = 'csv'\n",
    "img_path = 'images'\n",
    "clip_info_path = 'csv\\clip_info'\n",
    "csvs = [name for name in os.listdir(path) if os.path.isfile(os.path.join(path, name))]"
   ]
  },
  {
   "cell_type": "code",
   "execution_count": 9,
   "metadata": {
    "collapsed": false
   },
   "outputs": [
    {
     "name": "stdout",
     "output_type": "stream",
     "text": [
      "-KUYDYCwnOQ_clip_40_01_info.csv\n",
      "   label        0        1       w       h\n",
      "0      0  0.36195  0.33755  0.0585  0.2733\n",
      "1      0  0.37260  0.19235  0.0780  0.2359\n",
      "2      0  0.41670  0.36435  0.0718  0.2581\n",
      "3      0  0.44515  0.24195  0.0823  0.2207\n",
      "4      0  0.54720  0.37295  0.0806  0.2289\n",
      "5      0  0.60560  0.44925  0.0728  0.3009\n",
      "6      0  0.61455  0.35365  0.0725  0.2477\n",
      "7      0  0.68075  0.33300  0.0697  0.2806\n",
      "8      0  0.69555  0.28730  0.0721  0.2478\n",
      "9      0  0.90640  0.31880  0.0482  0.2610\n",
      "images\\-KUYDYCwnOQ_clip_40_01.txt\n"
     ]
    }
   ],
   "source": [
    "for csv in csvs:\n",
    "    print csv\n",
    "    fullpath = os.path.join(path, csv)\n",
    "    video_id = \"_\".join(csv.split('_')[0:-2])\n",
    "    clip_csv_filename = video_id + '_clip_info.csv'\n",
    "    clip_csv_fullpath = os.path.join(clip_info_path, clip_csv_filename)\n",
    "\n",
    "    clip_info = pd.read_csv(clip_csv_fullpath, header=None)\n",
    "    image_info = pd.read_csv(fullpath)\n",
    "\n",
    "    image_width = int(clip_info[1][2])\n",
    "    image_height = int(clip_info[1][3])\n",
    "    \n",
    "    botleft_x = image_info['x']    # Bottom left corner\n",
    "    botleft_y = image_info['y']    # Bottom left corner\n",
    "    box_width = image_info['w']\n",
    "    box_height = image_info['h']\n",
    "    \n",
    "    mid_x = botleft_x + (box_width / 2.0)\n",
    "    mid_y = botleft_y + (box_height / 2.0)\n",
    "    \n",
    "    x = mid_x / image_width\n",
    "    y = mid_y / image_height\n",
    "    \n",
    "    w = image_info['w'] / image_width\n",
    "    h = image_info['h'] / image_height\n",
    "    \n",
    "    combined = pd.concat([x, y, w, h], axis = 1)\n",
    "    combined['label'] = np.zeros(len(combined))\n",
    "    cols = combined.columns.tolist()\n",
    "    cols = cols[-1:] + cols[:-1]\n",
    "    combined['label'] = combined['label'].astype(int)\n",
    "    combined = combined[cols]\n",
    "    \n",
    "    save_file = csv.split('.')[0].replace('_info','') + '.txt'\n",
    "    save_file_path = os.path.join(img_path, save_file)\n",
    "\n",
    "    combined.to_csv(save_file_path, sep=' ', header = False, index = False)"
   ]
  },
  {
   "cell_type": "code",
   "execution_count": 97,
   "metadata": {
    "collapsed": false
   },
   "outputs": [
    {
     "name": "stdout",
     "output_type": "stream",
     "text": [
      "0ntRJpD2fM8_clip_73_clip_info\n"
     ]
    }
   ],
   "source": [
    "a = '0ntRJpD2fM8_clip_73_clip_info.csv'\n",
    "b = a.split('.')[0]\n",
    "print b"
   ]
  },
  {
   "cell_type": "code",
   "execution_count": null,
   "metadata": {
    "collapsed": true
   },
   "outputs": [],
   "source": []
  }
 ],
 "metadata": {
  "anaconda-cloud": {},
  "kernelspec": {
   "display_name": "Python [conda env:NL]",
   "language": "python",
   "name": "conda-env-NL-py"
  },
  "language_info": {
   "codemirror_mode": {
    "name": "ipython",
    "version": 2
   },
   "file_extension": ".py",
   "mimetype": "text/x-python",
   "name": "python",
   "nbconvert_exporter": "python",
   "pygments_lexer": "ipython2",
   "version": "2.7.12"
  }
 },
 "nbformat": 4,
 "nbformat_minor": 1
}
